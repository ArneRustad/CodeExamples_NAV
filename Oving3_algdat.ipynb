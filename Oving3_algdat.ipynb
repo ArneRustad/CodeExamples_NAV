{
 "cells": [
  {
   "cell_type": "markdown",
   "metadata": {},
   "source": [
    "# Øving 3"
   ]
  },
  {
   "cell_type": "code",
   "execution_count": 1,
   "metadata": {},
   "outputs": [
    {
     "data": {
      "text/plain": [
       "mergearrays (generic function with 1 method)"
      ]
     },
     "execution_count": 1,
     "metadata": {},
     "output_type": "execute_result"
    }
   ],
   "source": [
    "function mergearrays(x,y,coordinate)\n",
    "    A = []\n",
    "    z = Array{Float64, 2}(undef, size(x,1) + size(y,1),2)\n",
    "    k = 1\n",
    "    i = 1\n",
    "    j = 1\n",
    "    lx = size(x, 1)\n",
    "    ly = size(y, 1)\n",
    "    while (i <= lx) && (j <= ly)\n",
    "        if x[i, coordinate] <= y[j, coordinate]\n",
    "            z[k,:] = x[i, :]\n",
    "            k += 1\n",
    "            i += 1\n",
    "        else\n",
    "            z[k,:] = y[j, :]\n",
    "            k += 1\n",
    "            j += 1\n",
    "        end\n",
    "    end\n",
    "        \n",
    "\n",
    "    while i <= lx\n",
    "        z[k, :] = x[i, :]\n",
    "        i += 1\n",
    "        k += 1\n",
    "    end\n",
    "    while j <= ly\n",
    "        z[k, :] = y[j, :]\n",
    "        j += 1\n",
    "        k += 1\n",
    "    end\n",
    "                \n",
    "    return z\n",
    "\n",
    "end"
   ]
  },
  {
   "cell_type": "code",
   "execution_count": 2,
   "metadata": {},
   "outputs": [
    {
     "name": "stdout",
     "output_type": "stream",
     "text": [
      "[1.0 2.0; 2.0 1.0; 3.0 4.0; 3.0 3.0; 4.0 5.0; 7.0 5.0; 8.0 2.0]\n",
      "\n",
      "2.0\n"
     ]
    }
   ],
   "source": [
    "x = [1 2; 3 4 ; 4 5; 8 2]\n",
    "y = [2 1; 3 3; 7 5]\n",
    "print(mergearrays(x, y, 1))\n",
    "a = mergearrays(x, y, 1)\n",
    "println(\"\\n\")\n",
    "println(a[2, 1])"
   ]
  },
  {
   "cell_type": "code",
   "execution_count": 3,
   "metadata": {},
   "outputs": [
    {
     "data": {
      "text/plain": [
       "mergesort (generic function with 1 method)"
      ]
     },
     "execution_count": 3,
     "metadata": {},
     "output_type": "execute_result"
    }
   ],
   "source": [
    "function mergesort(x, coordinate)\n",
    "    if size(x, 1) == 1\n",
    "        return x\n",
    "    end\n",
    "    middle = round(Int, size(x, 1) / 2)\n",
    "    first = mergesort(x[1:middle, :], coordinate)\n",
    "    second = mergesort(x[middle+1:end,:], coordinate)\n",
    "    return mergearrays(first, second, coordinate)\n",
    "\n",
    "end"
   ]
  },
  {
   "cell_type": "code",
   "execution_count": 4,
   "metadata": {},
   "outputs": [
    {
     "name": "stdout",
     "output_type": "stream",
     "text": [
      "[1.0 2.0; 2.0 1.0; 3.0 4.0; 3.0 3.0; 4.0 5.0; 4.0 7.0; 10.0 1.0]\n"
     ]
    }
   ],
   "source": [
    "z = [1 2; 3 4; 4 5; 2 1; 3 3; 4 7; 10 1]\n",
    "\n",
    "println(mergesort(z, 1))"
   ]
  },
  {
   "cell_type": "code",
   "execution_count": 5,
   "metadata": {},
   "outputs": [
    {
     "data": {
      "text/plain": [
       "intervalsearch (generic function with 1 method)"
      ]
     },
     "execution_count": 5,
     "metadata": {},
     "output_type": "execute_result"
    }
   ],
   "source": [
    "function intervalsearch(x, delta, coord)\n",
    "    low = high = -1\n",
    "    length = size(x, 1)\n",
    "    if length == 0\n",
    "        return -1,-1\n",
    "    end\n",
    "    \n",
    "    if length % 2 == 1\n",
    "        high = low = Int((length + 1) / 2)\n",
    "        median = x[low, coord]\n",
    "    else\n",
    "        low = Int(length / 2)\n",
    "        high = low + 1\n",
    "        median = (x[high, coord] + x[low, coord]) / 2        \n",
    "    end\n",
    "    min = median - delta\n",
    "    max = median + delta\n",
    "    if x[high, coord] > max && x[low, coord] < min\n",
    "        return -1, -1\n",
    "    end\n",
    "    while low > 1 && x[low - 1, coord] >= min\n",
    "        low -= 1\n",
    "    end\n",
    "    while high < length && x[high + 1, coord] <= max\n",
    "        high += 1\n",
    "    end\n",
    "    return low, high\n",
    "\n",
    "end"
   ]
  },
  {
   "cell_type": "code",
   "execution_count": 6,
   "metadata": {},
   "outputs": [
    {
     "ename": "MethodError",
     "evalue": "MethodError: no method matching binarysearch(::Array{Int64,1}, ::Float64, ::Bool)\nClosest candidates are:\n  binarysearch(::Any, ::Any, ::Any, !Matched::Any) at In[6]:2",
     "output_type": "error",
     "traceback": [
      "MethodError: no method matching binarysearch(::Array{Int64,1}, ::Float64, ::Bool)\nClosest candidates are:\n  binarysearch(::Any, ::Any, ::Any, !Matched::Any) at In[6]:2",
      "",
      "Stacktrace:",
      " [1] top-level scope at In[6]:35"
     ]
    }
   ],
   "source": [
    "function binarysearch(x, value, bool_up, coord)\n",
    "    low = 1\n",
    "    high = size(x, 1)\n",
    "    while (high - low) > 1\n",
    "        mid = ceil(Int,(low + high) / 2)\n",
    "        if x[mid, coord] > value\n",
    "            high = mid\n",
    "        elseif x[mid, coord] < value\n",
    "            low = mid\n",
    "        else\n",
    "            if bool_up\n",
    "                low = mid\n",
    "            else\n",
    "                high = mid\n",
    "            end\n",
    "        end\n",
    "    end\n",
    "    \n",
    "    if bool_up\n",
    "        if x[high, coord] <= value\n",
    "            return high\n",
    "        else\n",
    "            return low\n",
    "        end\n",
    "    else\n",
    "        if x[low, coord] >= value\n",
    "            return low\n",
    "        else\n",
    "            return high\n",
    "        end\n",
    "    end\n",
    "end\n",
    "\n",
    "y = [1,2, 2, 3, 4,5,6,7,8, 8, 9, 9]\n",
    "println(binarysearch(y, 2.5, false))"
   ]
  },
  {
   "cell_type": "code",
   "execution_count": 7,
   "metadata": {},
   "outputs": [
    {
     "data": {
      "text/plain": [
       "binaryintervalsearch (generic function with 1 method)"
      ]
     },
     "execution_count": 7,
     "metadata": {},
     "output_type": "execute_result"
    }
   ],
   "source": [
    "function binaryintervalsearch(x, delta, coord)\n",
    "    low = high = -1\n",
    "    length = size(x, 1)\n",
    "    if length == 0\n",
    "        return -1,-1\n",
    "    end\n",
    "    \n",
    "    if length % 2 == 1\n",
    "        high = low = Int((length + 1) / 2)\n",
    "        median = x[low, coord]\n",
    "    else\n",
    "        low = Int(length / 2)\n",
    "        high = low + 1\n",
    "        median = (x[high, coord] + x[low, coord]) / 2        \n",
    "    end\n",
    "    min = median - delta\n",
    "    max = median + delta\n",
    "    if x[high, coord] > max && x[low, coord] < min\n",
    "        return -1, -1\n",
    "    end\n",
    "    low = binarysearch(x, min, false, coord)\n",
    "    high = binarysearch(x, max, true, coord)\n",
    "    \n",
    "    return low, high\n",
    "\n",
    "end"
   ]
  },
  {
   "cell_type": "code",
   "execution_count": 8,
   "metadata": {},
   "outputs": [
    {
     "name": "stdout",
     "output_type": "stream",
     "text": [
      "(1, 7)\n"
     ]
    }
   ],
   "source": [
    "w = [2 2; 2 2; 2 2; 2 2; 2 2; 2 2; 2 2]\n",
    "println(binaryintervalsearch(w, 3, 1))"
   ]
  },
  {
   "cell_type": "code",
   "execution_count": 9,
   "metadata": {},
   "outputs": [
    {
     "data": {
      "text/plain": [
       "bruteforce (generic function with 1 method)"
      ]
     },
     "execution_count": 9,
     "metadata": {},
     "output_type": "execute_result"
    }
   ],
   "source": [
    "function vec_length(x, y)\n",
    "    return sqrt((x[1] - y[1])^2 + (x[2] - y[2])^2)\n",
    "end\n",
    "\n",
    "function bruteforce(x)\n",
    "    min = vec_length(x[1,:], x[2,:])\n",
    "    length = size(x,1)\n",
    "    for i = 1:length\n",
    "        for j = i+1:length\n",
    "            temp = vec_length(x[i,:], x[j,:])\n",
    "            if temp < min\n",
    "                min = temp\n",
    "            end\n",
    "        end\n",
    "    end\n",
    "    return min\n",
    "        \n",
    "\n",
    "end"
   ]
  },
  {
   "cell_type": "code",
   "execution_count": 10,
   "metadata": {},
   "outputs": [
    {
     "name": "stdout",
     "output_type": "stream",
     "text": [
      "0.0\n"
     ]
    }
   ],
   "source": [
    "println(bruteforce(w))\n"
   ]
  },
  {
   "cell_type": "code",
   "execution_count": 11,
   "metadata": {},
   "outputs": [
    {
     "data": {
      "text/plain": [
       "splitintwo (generic function with 1 method)"
      ]
     },
     "execution_count": 11,
     "metadata": {},
     "output_type": "execute_result"
    }
   ],
   "source": [
    "function check_list(x, value)\n",
    "    for i = 1:size(x,1)\n",
    "        if x[i,:] == value\n",
    "            return true\n",
    "        end\n",
    "    end\n",
    "    return false\n",
    "end\n",
    "    \n",
    "\n",
    "function splitintwo(x,y)\n",
    "    length = size(x, 1)\n",
    "    m =  round(Int, length / 2)\n",
    "    if length % 2 == 1\n",
    "        m += 1\n",
    "    end\n",
    "    x1 = x[1:m,:]\n",
    "    x2 = x[m+1:length, :]\n",
    "    y1 = Array{Float64, 2}(undef, size(x1, 1),2)\n",
    "    y2 = Array{Float64, 2}(undef, size(x2, 1),2)\n",
    "    xMedian = x1[size(x1, 1)]\n",
    "    i = j = k = 1\n",
    "    while (k <= size(x, 1))\n",
    "        if y[k, 1] < xMedian\n",
    "            y1[i,:] = y[k,:]\n",
    "            i += 1\n",
    "        elseif y[k, 1] == xMedian && i <= size(y1, 1)\n",
    "            if check_list(x1, y[k,:])\n",
    "                y1[i,:] = y[k,:]\n",
    "                i += 1\n",
    "            else\n",
    "                y2[j, :] = y[k,:]\n",
    "                j += 1\n",
    "            end\n",
    "                            \n",
    "        else\n",
    "            y2[j, :] = y[k,:]\n",
    "            j += 1\n",
    "        end\n",
    "        println(k)\n",
    "        k += 1\n",
    "    end\n",
    "    return x1, x2, y1, y2\n",
    "end\n",
    "    "
   ]
  },
  {
   "cell_type": "code",
   "execution_count": 12,
   "metadata": {},
   "outputs": [
    {
     "name": "stdout",
     "output_type": "stream",
     "text": [
      "1\n",
      "2\n",
      "3\n",
      "4\n",
      "5\n",
      "([5.0 5.0; 5.0 10.0; 5.0 9.0], [5.0 1.0; 5.0 2.0], [5.0 5.0; 5.0 9.0; 5.0 10.0], [5.0 1.0; 5.0 2.0])\n"
     ]
    }
   ],
   "source": [
    "x = [5.0 5.0; 5.0 10.0; 5.0 9.0; 5.0 1.0; 5.0 2.0]\n",
    "\n",
    "y = mergesort(x, 2)\n",
    "println(splitintwo(x, y))"
   ]
  },
  {
   "cell_type": "code",
   "execution_count": null,
   "metadata": {},
   "outputs": [],
   "source": []
  },
  {
   "cell_type": "code",
   "execution_count": null,
   "metadata": {},
   "outputs": [],
   "source": []
  }
 ],
 "metadata": {
  "kernelspec": {
   "display_name": "Julia 1.2.0",
   "language": "julia",
   "name": "julia-1.2"
  },
  "language_info": {
   "file_extension": ".jl",
   "mimetype": "application/julia",
   "name": "julia",
   "version": "1.2.0"
  }
 },
 "nbformat": 4,
 "nbformat_minor": 2
}
