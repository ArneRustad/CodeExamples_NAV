{
 "cells": [
  {
   "cell_type": "markdown",
   "metadata": {},
   "source": [
    "# Homework 1: Linear Systems Part I"
   ]
  },
  {
   "cell_type": "markdown",
   "metadata": {},
   "source": [
    "## General Instructions\n",
    " \n",
    "* To pass this assignment requires to complete the present Jupyter notebook by\n",
    "    + providing correct answers to all the theoretical exercises, and by\n",
    "    + providing complete and runnable computer code producing the correct results to all the computational problems.\n",
    "\n",
    "* For the theoretical exercises, please include intermediate steps to\n",
    "  explain how you arrive at your solution.\n",
    "* Don't overengineer your code, keep it as simple and readable as possible   and provide short code comments to help other people understanding your     code.\n",
    "* Please provide also a short summary and discussion of your results \n",
    "  including the requested output (e.g., tables, graphs etc.).\n",
    "\n",
    "* Up to 3 students can jointly submit the solutions (4 students if at\n",
    "  least one is an exchange student) **Only 1 student from each group** \n",
    "  is supposed to submit them.  \n",
    "\n",
    "##### Deadline for submission of your solutions is **5th of September**.\n",
    "\n",
    "\n",
    "###  Happy coding!"
   ]
  },
  {
   "cell_type": "markdown",
   "metadata": {},
   "source": [
    "**And before we start:**\n",
    "\n",
    "Executing the following cell loads a non-default css style for the notebook. \n",
    "Make sure that you download the corresponding css file  `tmas4215.css` from the `lab/styles` Blackbord folder. Note that the following code snippet assumes that the file resides inside the folder `../styles/` relative to the folder where you stored this notebook on you computer."
   ]
  },
  {
   "cell_type": "code",
   "execution_count": 1,
   "metadata": {},
   "outputs": [
    {
     "data": {
      "text/html": [
       "<link href='http://fonts.googleapis.com/css?family=Alegreya+Sans:100,300,400,500,700,800,900,100italic,300italic,400italic,500italic,700italic,800italic,900italic' rel='stylesheet' type='text/css'> <link href='http://fonts.googleapis.com/css?family=Arvo:400,700,400italic' rel='stylesheet' type='text/css'> <link href=\"https://fonts.googleapis.com/css?family=News+Cycle\" rel=\"stylesheet\"> <link href='http://fonts.googleapis.com/css?family=Nixie+One' rel='stylesheet' type='text/css'> <link href='http://fonts.googleapis.com/css?family=PT+Mono' rel='stylesheet' type='text/css'> <link href='http://fonts.googleapis.com/css?family=Shadows+Into+Light' rel='stylesheet' type='text/css'> <link href=\"https://fonts.googleapis.com/css?family=Source+Code+Pro\" rel=\"stylesheet\"> <style> @font-face {\n",
       "    /*font-family: \"Computer Modern\";*/\n",
       "    /*src: url('http://mirrors.ctan.org/fonts/cm-unicode/fonts/otf/cmunss.otf');*/\n",
       "    font-family: 'News Cycle', sans-serif;\n",
       "}\n",
       "\n",
       "\n",
       "/* main background */\n",
       "\n",
       "\n",
       "/*#notebook_panel { \n",
       "        background: #C9D4E2;\n",
       "    }*/\n",
       "\n",
       "div.cell {\n",
       "    /*max-width:600px;*/\n",
       "    /*margin-left:16% !important;*/\n",
       "    /*margin-right:auto;*/\n",
       "}\n",
       "\n",
       "div.text_cell {\n",
       "    max-width: 120ex;\n",
       "    /* instead of 100%, */\n",
       "}\n",
       "\n",
       "div.text_cell_render {\n",
       "    font-family: 'Alegreya Sans', Computer Modern, \"Helvetica Neue\", Arial, Helvetica, Geneva,   sans-serif;\n",
       "    line-height: 135%;\n",
       "    /*font-size:    45pt;*/\n",
       "    font-size: 130%;\n",
       "    /*width:600px;*/\n",
       "    /*margin-left:auto;*/\n",
       "    /*margin-right:auto;*/\n",
       "}\n",
       "\n",
       ".CodeMirror {\n",
       "    /*font-family: 'Source Code Pro', monospace;*/\n",
       "    /*font-style: italic;*/\n",
       "    /*font-weight: bold;*/\n",
       "    /*font-size: 120%;*/\n",
       "}\n",
       "\n",
       "\n",
       "/*.prompt{\n",
       "        display: None;\n",
       "    }*/\n",
       "\n",
       ".text_cell_render h1 {\n",
       "    font-family: 'Nixie One', serifV;\n",
       "    font-style: regular;\n",
       "    font-weight: 400;\n",
       "    font-size: 45pt;\n",
       "    line-height: 100%;\n",
       "        color: #497BB9;    \n",
       "    /*color: #5889C5;*/\n",
       "    /*color: rgb(0, 51, 102);*/\n",
       "    /*font-weight: 200;*/\n",
       "    /*font-size: 50pt;*/\n",
       "    margin-bottom: 0.5em;\n",
       "    margin-top: 0.5em;\n",
       "    display: block;\n",
       "}\n",
       "\n",
       ".text_cell_render h2 {\n",
       "    font-family: 'Nixie One', serif;\n",
       "    font-weight: 400;\n",
       "    font-size: 30pt;\n",
       "    line-height: 100%;\n",
       "    /*color: rgb(0,51,102);*/\n",
       "    color: #497BB9;    \n",
       "    margin-bottom: 0.1em;\n",
       "    margin-top: 0.3em;\n",
       "    display: block;\n",
       "}\t\n",
       "\n",
       ".text_cell_render h3 {\n",
       "    font-family: 'Nixie One', serif;\n",
       "    margin-top:16px;\n",
       "    font-size: 22pt;\n",
       "    font-weight: 600;\n",
       "    margin-bottom: 3px;\n",
       "    font-style: regular;\n",
       "    color: rgb(102,102,0);\n",
       "}\n",
       "\n",
       ".text_cell_render h4 {    /*Use this for captions*/\n",
       "    font-family: 'Nixie One', serif;\n",
       "    font-size: 14pt;\n",
       "/*    text-align: center;*/\n",
       "    margin-top: 0em;\n",
       "    margin-bottom: 2em;\n",
       "    font-style: regular;\n",
       "}\n",
       "\n",
       ".text_cell_render h5 {  /*Use this for small titles*/\n",
       "    font-family: 'Nixie One', sans-serif;\n",
       "    font-weight: 400;\n",
       "    font-size: 16pt;\n",
       "    color: rgb(163,0,0);\n",
       "    /*color: #5889C5;*/\n",
       "    /*margin-bottom: .5em;\n",
       "    margin-top: 0.5em;*/\n",
       "    font-style: italic;\n",
       "    margin-bottom: .1em;\n",
       "    margin-top: 0.8em;\n",
       "    display: block;\n",
       "}\n",
       "\n",
       ".warning {\n",
       "    color: rgb( 240, 20, 20)\n",
       "}\n",
       "\n",
       "</style> \n",
       "<script>\n",
       " MathJax.Hub.Config( {\n",
       "    TeX: {\n",
       "        Macros: {\n",
       "            NN: \"{\\\\bf N}\",\n",
       "            RR: \"{\\\\mathbb{R}}\",\n",
       "            mcO: \"{\\\\mathcal{O}}\"\n",
       "        },\n",
       "        equationNumbers: { autoNumber: \"AMS\" },\n",
       "        extensions: [\"AMSmath.js\", \"begingroup.js\"] \n",
       "    },\n",
       "    tex2jax: {\n",
       "        inlineMath: [ ['$', '$'], [\"\\\\(\", \"\\\\)\"]], displayMath: [ ['$$', '$$'], [\"\\\\[\", \"\\\\]\"]]\n",
       "    },\n",
       "    displayAlign: 'center', // Change this to 'center' to center equations.\n",
       "    \"HTML-CSS\": {\n",
       "        styles: {\n",
       "            '.MathJax_Display': {\n",
       "                \"margin\": 4\n",
       "            }\n",
       "        }\n",
       "    }\n",
       "}\n",
       ");\n",
       "</script>"
      ],
      "text/plain": [
       "<IPython.core.display.HTML object>"
      ]
     },
     "execution_count": 1,
     "metadata": {},
     "output_type": "execute_result"
    }
   ],
   "source": [
    "from IPython.core.display import HTML\n",
    "def css_styling():\n",
    "    styles = open(\"../styles/tma4215.css\", \"r\").read()\n",
    "    return HTML(styles)\n",
    "\n",
    "# Comment out next line and execute this cell to restore the default notebook style \n",
    "css_styling()"
   ]
  },
  {
   "cell_type": "markdown",
   "metadata": {},
   "source": [
    "### Useful code snippets\n",
    "\n",
    "We provide a few of code snippets to get you\n",
    "started in Python. Three dots $\\ldots$ indicate places where you have\n",
    "to fill in code. We start with importing the necessary scientific libraries\n",
    "and define a name alias for them."
   ]
  },
  {
   "cell_type": "code",
   "execution_count": 2,
   "metadata": {
    "jupyter": {
     "outputs_hidden": true
    }
   },
   "outputs": [],
   "source": [
    "# Arrary and stuff \n",
    "import numpy as np\n",
    "# Linear algebra solvers from scipy\n",
    "import scipy.linalg as la\n",
    "# Basic plotting routines from the matplotlib library \n",
    "import matplotlib.pyplot as plt"
   ]
  },
  {
   "cell_type": "markdown",
   "metadata": {},
   "source": [
    "## Problem 1\n",
    "Provide a complete proof of Theorem 2 from Lecture 2,\n",
    "following the outline provided there. \n",
    "\n",
    "Theorem 2: Let $A ∈ R_(n,n)$ with $n > 2$ and assume that every leading\n",
    "principal submatrix of order k with $1 \\leq k \\leq n − 1$ is invertible. Then A\n",
    "admits a LU factorization, where L is unit lower triangular of order n, and\n",
    "R is upper triangular of order n.\n",
    "\n",
    "Proof by induction.\n",
    "Base case:\n",
    "\n",
    "$\\begin{equation}\n",
    "A = \\begin{bmatrix}\n",
    "a&b\\\\\n",
    "c&d\\\\\n",
    "\\end{bmatrix}\n",
    "= \\begin{bmatrix}\n",
    "1&0 \\\\\n",
    "l&1 \\\\\n",
    "\\end{bmatrix}\\begin{bmatrix}\n",
    "m&n \\\\\n",
    "0&r \\\\\n",
    "\\end{bmatrix}=LU = \\begin{bmatrix}\n",
    "m  & n \\\\\n",
    "lm & ln+r \\\\\n",
    "\\end{bmatrix}\n",
    "\\end{equation}$\n",
    "\n",
    "provides the four sets of equations \n",
    "\n",
    "$\\begin{equation}\n",
    "m = a,\\quad n = b,\\quad l = \\frac{c}{m} = \\frac{c}{a} ,\\quad r = d-ln\n",
    "\\end{equation}$\n",
    "\n",
    "thus if $a = 0$, neither $l$ nor $r$ will be defined, and a LU-facorisation is not possible.\n",
    "\n",
    "conclusion: $a = 0$ causes there to be no LU-factorization $\\Rightarrow det(a) \\neq 0 \\Rightarrow$ the principal submatrix of a two by two matrix must have a non-zero determinant.\n",
    "\n",
    "induction:\n",
    "Given that a $NxN$ submatrix $A^{n}$ is LU-factorizable, what constraints do we need  so that the $(N+1)x(N+1)$ matrix $A$ is LU-factorizable.\n",
    "\n",
    "$\\begin{equation}\n",
    "A = \\begin{bmatrix}\n",
    "A^{n}&\\vec{b}\\\\\n",
    "\\vec{c}&d\\\\\n",
    "\\end{bmatrix}\n",
    "= \\begin{bmatrix}\n",
    "L^{n}&0 \\\\\n",
    "\\vec{l}&1 \\\\\n",
    "\\end{bmatrix}\\begin{bmatrix}\n",
    "U^{n}&\\vec{n} \\\\\n",
    "0&r \\\\\n",
    "\\end{bmatrix} = \\begin{bmatrix}\n",
    "L^{n}U^{n}  & L^{n}\\vec{n} \\\\\n",
    "\\vec{l}U^{n} & \\vec{l}\\vec{n}+r \\\\\n",
    "\\end{bmatrix} = LU\n",
    "\\end{equation}$\n",
    "\n",
    "this gives rize to four equations,\n",
    "\n",
    "$\\begin{equation}\n",
    "A^{n} = L^{n}U^{n},\\quad \\vec{b} = L^{n}\\vec{n},\\quad \\vec{c} = \\vec{l}U^{n} ,\\quad d = \\vec{l}\\vec{n}+r\n",
    "\\end{equation}$.\n",
    "\n",
    "To be able to solve for $\\vec{n}$ and $\\vec{l}$ (and r follows) from $\\vec{b} = L^{n}\\vec{n}$ and $\\vec{c} = \\vec{l}U^{n}$ we have to have both $U^{n}$ and $L^{n}$ to be invertable, which means\n",
    "$det(U^{n}) \\neq 0$ and $det(L^{n}) \\neq 0 \\Rightarrow det(A^{n}) = det(L^{n}U^{n}) = det(L^{n})det(U^{n}) \\neq 0$ \n",
    "\n",
    "Thus showing that for any N by N matrix, every leading\n",
    "principal submatrix must be invertable.\n",
    "\n",
    "\n"
   ]
  },
  {
   "cell_type": "markdown",
   "metadata": {},
   "source": [
    "## Problem 2"
   ]
  },
  {
   "cell_type": "markdown",
   "metadata": {},
   "source": [
    "Given matrix $A \\in \\mathbb{R}^{n,n}$ and $\\boldsymbol{b} \\in \\mathbb{R}^n$,\n",
    "the goal of this problem set is to compute the solution $\\boldsymbol{x}$\n",
    "to the linear system $A \\boldsymbol{x} = \\boldsymbol{b}$ numerically\n",
    "by implementing the algorithms $A = LU$ factorization (whenever possible), and the backward and forward substitution steps in ```Python```.\n",
    "\n",
    "As a preliminary step, please make sure that you have import ```numpy```  as ```np``` by executing the cell right under \"Useful code snippets\"."
   ]
  },
  {
   "cell_type": "markdown",
   "metadata": {},
   "source": [
    "**a)** Implement a ```Python``` function ```forward_sub```:"
   ]
  },
  {
   "cell_type": "code",
   "execution_count": 3,
   "metadata": {},
   "outputs": [],
   "source": [
    "def forward_sub(L, b):\n",
    "    \"This will only work for unit lower matrixes (unless you uncomment down below)\"\n",
    "    L = np.array(L) #just in case\n",
    "    b = np.array(b) #just in case\n",
    "    \n",
    "    z = np.zeros(L.shape[1]) # rows\n",
    "    #start first in the upper part of the system\n",
    "    for i in range(L.shape[0]): #iterating through rows of L\n",
    "        z[i] = (b[i] - z[:i]@(L[i,:i]).T) #/ L[i,i]  \"\"\"makes it work generally if uncomment\"\"\"   \n",
    "    return z"
   ]
  },
  {
   "cell_type": "markdown",
   "metadata": {},
   "source": [
    "**b)** Next, implement a ```Python``` function ```backward_sub```:"
   ]
  },
  {
   "cell_type": "code",
   "execution_count": 4,
   "metadata": {},
   "outputs": [],
   "source": [
    "def backward_sub(U, y):\n",
    "    U = np.array(U) #just in case\n",
    "    y = np.array(y) #just in case\n",
    "    \n",
    "    x = np.zeros(U.shape[1])\n",
    "    #start at bottom\n",
    "    for i in range(U.shape[0]-1, -1,-1):#rows of U\n",
    "        x[i] = (y[i] - U[i, i+1:]@(x[i+1:]).T) / U[i,i]\n",
    "    return x"
   ]
  },
  {
   "cell_type": "markdown",
   "metadata": {},
   "source": [
    "**c)** Now, implement a Python function which computes for a given matrix $A \\boldsymbol{R}^{n,n}$ the $LU$ factorization of $A = LU$ ((if possible).\n",
    "You can either base your implemenentation on the Banachiewicz or Crout method (explain in Lecture 3) or any method\n",
    "you might dig up from the literature.\n",
    "If you want, you can take some inspiration from the reference **YEB**, Chapter 3.3, see Program 4, 5, 6.\n",
    "$\\begin{equation}\n",
    "x = \\frac{y}{z}\n",
    "\\end{equation}\n",
    "$\n",
    "If the factorization fails without permutating $A$, you should at least be so kind\n",
    "and raise an ```Exception```, see [Python 3 tutorial, 8. Errors and Exceptions](\n",
    "https://docs.python.org/3/tutorial/errors.html#errors-and-exceptions).\n",
    "More specifically, you can simply raise an [NotImplementedError](https://docs.python.org/3/library/exceptions.html#NotImplementedError) exception.\n",
    "\n",
    "Of course, you can also implement the full $PA = LU$ decomposition if you don't want to throw Exceptions around :)."
   ]
  },
  {
   "cell_type": "code",
   "execution_count": 5,
   "metadata": {},
   "outputs": [],
   "source": [
    "def lu_factor(A):\n",
    "    \"\"\"With pivoting\"\"\"\n",
    "    A = np.array(A,dtype=np.float64) # just in case\n",
    "    P = np.arange(A.shape[0]) # permutation vector\n",
    "    n = A.shape[0]\n",
    "    \n",
    "    U = np.zeros((n,n),dtype = np.float64) # U starts with only zeros\n",
    "    L = np.identity(n,dtype = np.float64) # L starts as Id(n)\n",
    "    \n",
    "    for i in range(n): #rows in A[P]\n",
    "        #find |A[:,i]|_infinity and switch places with the row containing it\n",
    "        index = np.argmax(np.abs(A[P[i:],i]))\n",
    "        temp = P[i]\n",
    "        P[i] = P[i + index] #there is an i here becouse index starts at i\n",
    "        P[i + index] = temp\n",
    "        \n",
    "        for j in range(n):\n",
    "            if j<i: \n",
    "                #solving the L[i,:] row (will not do anything the first loop of \"i\")\n",
    "                L[i,j] = (A[P[i],j] - L[i, :j]@U[:j,j]) / U[j,j]\n",
    "            else:\n",
    "                #solving the U[i,:] row \n",
    "                U[i,j] = A[P[i],j] - L[i,:i]@U[:i,j]\n",
    "            \n",
    "    return L, U, P\n",
    "    \n",
    "    \n",
    "    \n",
    "    "
   ]
  },
  {
   "cell_type": "markdown",
   "metadata": {},
   "source": [
    "**d)** Next, combine the Python functions you just implemented in a)-b) to provide\n",
    "solver for the linear system $A \\boldsymbol{x} = \\boldsymbol{b}$ based on\n",
    "a given $A = LU$ factorization. "
   ]
  },
  {
   "cell_type": "code",
   "execution_count": 6,
   "metadata": {},
   "outputs": [],
   "source": [
    "def lu_solve(L, U, b):\n",
    "    # Step 1: Solve Uy = b using forward substitution\n",
    "    z = forward_sub(L,b)\n",
    "    \n",
    "    # Step 2: Solve Lx = y using backward substitution\n",
    "    \n",
    "    \n",
    "    return backward_sub(U,z)"
   ]
  },
  {
   "cell_type": "markdown",
   "metadata": {},
   "source": [
    "**e)** Finally, write a ```linear_solve``` function  by simply combining your ```lu_factor``` and ```lu_solve```. "
   ]
  },
  {
   "cell_type": "code",
   "execution_count": 7,
   "metadata": {},
   "outputs": [],
   "source": [
    "def linear_solve(A, b):\n",
    "    L, U, P = lu_factor(A)\n",
    "    return lu_solve(L,U,b[P])"
   ]
  },
  {
   "cell_type": "markdown",
   "metadata": {},
   "source": [
    "**f)** Use you brand new `linear_solve` function to compute the solution to a non-trivial linear system. Here non-trivial means that $n > 4$ :) and a non-zero right-hand side $\\boldsymbol{b}$.\n",
    "\n",
    "*Hint*: To check whether your code computes the \"exact\" result, you can use the \n",
    "method of **manufactured solution**. In the case of linear systems $A \\boldsymbol{x} = \\boldsymbol{b}$ this means that for **given/chosen** matrix $A$ and solution vector $\\boldsymbol{x}$, you simply compute the resulting right-hand side vector \n",
    "$\\boldsymbol{b} = A \\boldsymbol{x}$ to construct an example where you know the solution.\n",
    "When you now solve $A\\boldsymbol{x} = \\boldsymbol{b}$ starting from $A$, $\\boldsymbol{b}$, your implementation should return the correct $\\boldsymbol{x}$."
   ]
  },
  {
   "cell_type": "code",
   "execution_count": 8,
   "metadata": {},
   "outputs": [
    {
     "name": "stdout",
     "output_type": "stream",
     "text": [
      "[1. 1. 2. 3. 5.]\n"
     ]
    }
   ],
   "source": [
    "\"\"\"Testing this\"\"\"\n",
    "A = np.array([[ 3,  -7,  -2,2,20],\n",
    "              [-3,5,1,0,4],\n",
    "              [6,-4,0,5,17],\n",
    "              [-9,5,-5,12,5],\n",
    "             [1,9,-3,-11,13]])\n",
    "\"\"\"Not to be used\"\"\"\n",
    "#x = np.array([1,1,2,3,5])\n",
    "#x = x.T\n",
    "#print(A@x)\n",
    "\"\"\"#############\"\"\"\n",
    "\n",
    "b = np.array([98,24,102,47,36])\n",
    "\n",
    "print(linear_solve(A,b))"
   ]
  },
  {
   "cell_type": "markdown",
   "metadata": {},
   "source": [
    "## Problem 3\n",
    "\n",
    "The objective of this problem set is two-fold. First, we will have an actual look \n",
    "at the complexity of the linear solver you implemented in the previous problem.\n",
    "Second, we want to illustrate that the finite precision of real numbers\n",
    "can matter very much in actual computations.\n",
    "\n",
    "We start by introducing the **Hilbert Matrix** $H_n$ of order $n$ by\n",
    "$$ \n",
    "(H_n)_{ij} = \\dfrac{1}{i+j-1} \\quad \\text{for } 1 \\leqslant i,j \\leqslant n.\n",
    "$$\n",
    "\n",
    "\n",
    "The Hilbert matrix is readily available in the ```scipy.linalg``` module, so you simply\n",
    "type, e.g\n",
    "\n",
    "```python\n",
    "n = 3\n",
    "A = la.hilbert(n)\n",
    "```\n",
    "Recall that we imported the ```linalg``` module and renamed it to ```la``` via the\n",
    "```python \n",
    "import scipy.linalg as la\n",
    "``` \n",
    "line at the beginning of this notebook."
   ]
  },
  {
   "cell_type": "markdown",
   "metadata": {},
   "source": [
    "**a)** \n",
    "Define the trivial righ-hand side $\\boldsymbol{b} = \\boldsymbol{0}$\n",
    "and measure the executation time for the various step in your linear_solver.\n",
    "To do so you can use ```%timeit``` and ```%%timeit``` magic functions in IPython,\n",
    "see [corresponding documentation](https://ipython.readthedocs.io/en/stable/interactive/magics.html#magic-timeit).\n",
    "\n",
    "In a nutshell, ```%%timeit``` measures the executation time of an entire cell, while ```%timeit```\n",
    "only measures only the executation time of a single line, e.g. as in\n",
    "\n",
    "```python\n",
    "%timeit my_function()\n",
    "```\n",
    "\n",
    "Note that the latter might not play well with functions returning arguments.\n",
    "To this end, you can simply (re)write a linear solver in  3 lines (1 line per cell)\n",
    "starting from calling your  ```lu_factor``` function and\n",
    "copy-pasting the lines from Step 1 to Step 2 in the ```linear_solve()``` function.\n",
    "Then use the ```%%timeit``` to measure the executation time of each cell.\n",
    "\n",
    "To get accurate timeing results, ```timeit``` automatically runs the same code multiple\n",
    "times in  a loop, and repeats that measurement a number of times.\n",
    "The actual number of loops and repeats is selected automatically and will be printed out at the end. They can also be manually adjusted by using\n",
    "\n",
    "```\n",
    "%%timeit -n<number_of_loops> -r<number_of_repeats>\n",
    "```\n",
    "\n",
    "\n",
    "Now for $n = 500, 1000, 2000, 4000$, measure the executation time for each step in the linear solve\n",
    "(factorizing, forward and backward substitution) and plot\n",
    "the execution time $t$ against the number of unknowns $n$ in a $\\log$-$\\log$ plot,\n",
    "that is, $\\log(t)$ against $\\log(n)$.\n",
    "(Matplotlib has specific functions for log-log plotting)"
   ]
  },
  {
   "cell_type": "code",
   "execution_count": 9,
   "metadata": {},
   "outputs": [
    {
     "name": "stderr",
     "output_type": "stream",
     "text": [
      "C:\\Users\\Gunna\\Anaconda3\\lib\\site-packages\\ipykernel_launcher.py:20: RuntimeWarning: divide by zero encountered in double_scalars\n",
      "C:\\Users\\Gunna\\Anaconda3\\lib\\site-packages\\ipykernel_launcher.py:20: RuntimeWarning: invalid value encountered in double_scalars\n",
      "C:\\Users\\Gunna\\Anaconda3\\lib\\site-packages\\ipykernel_launcher.py:9: RuntimeWarning: invalid value encountered in matmul\n",
      "  if __name__ == '__main__':\n"
     ]
    }
   ],
   "source": [
    "n = 4000\n",
    "A = la.hilbert(n)\n",
    "b = np.zeros(n)\n",
    "L,U,P = lu_factor(A)\n",
    "z = forward_sub(L,b[P])\n",
    "x = backward_sub(U,z)\n"
   ]
  },
  {
   "cell_type": "code",
   "execution_count": 10,
   "metadata": {},
   "outputs": [
    {
     "name": "stderr",
     "output_type": "stream",
     "text": [
      "C:\\Users\\Gunna\\Anaconda3\\lib\\site-packages\\ipykernel_launcher.py:20: RuntimeWarning: divide by zero encountered in double_scalars\n",
      "C:\\Users\\Gunna\\Anaconda3\\lib\\site-packages\\ipykernel_launcher.py:20: RuntimeWarning: invalid value encountered in double_scalars\n"
     ]
    },
    {
     "name": "stdout",
     "output_type": "stream",
     "text": [
      "2min 24s ± 0 ns per loop (mean ± std. dev. of 1 run, 1 loop each)\n"
     ]
    }
   ],
   "source": [
    "%%timeit -n1 -r1\n",
    "(L ,U, P) = lu_factor(A) "
   ]
  },
  {
   "cell_type": "code",
   "execution_count": 30,
   "metadata": {},
   "outputs": [
    {
     "name": "stderr",
     "output_type": "stream",
     "text": [
      "C:\\Users\\Gunna\\Anaconda3\\lib\\site-packages\\ipykernel_launcher.py:9: RuntimeWarning: invalid value encountered in matmul\n",
      "  if __name__ == '__main__':\n"
     ]
    },
    {
     "name": "stdout",
     "output_type": "stream",
     "text": [
      "5.6 ms ± 647 µs per loop (mean ± std. dev. of 7 runs, 100 loops each)\n"
     ]
    }
   ],
   "source": [
    "%%timeit \n",
    "z = forward_sub(L,b[P])"
   ]
  },
  {
   "cell_type": "code",
   "execution_count": 31,
   "metadata": {},
   "outputs": [
    {
     "name": "stdout",
     "output_type": "stream",
     "text": [
      "2.73 ms ± 507 µs per loop (mean ± std. dev. of 7 runs, 100 loops each)\n"
     ]
    }
   ],
   "source": [
    "%%timeit \n",
    "x = backward_sub(U,z)"
   ]
  },
  {
   "cell_type": "code",
   "execution_count": 32,
   "metadata": {},
   "outputs": [
    {
     "data": {
      "image/png": "[encoded data removed]",
      "text/plain": [
       "<Figure size 864x576 with 1 Axes>"
      ]
     },
     "metadata": {
      "needs_background": "light"
     },
     "output_type": "display_data"
    }
   ],
   "source": [
    "\"\"\"statistics when running; not a very good pc\"\"\"\n",
    "N    = [500, 1000, 2000, 4000] #size of H\n",
    "Fac  = [676e-3, 3.81,21.3, 170] #factorization time\n",
    "Forw = [3.39e-3, 9.94e-3,32.6e-3,91.2e-3] #forwards_sub time\n",
    "Bac  = [2.48e-3, 7.82e-3,25e-3,76.7e-3] #backwards_sub time\n",
    "plt.figure(figsize = (12,8))\n",
    "\n",
    "plt.loglog(N,Fac,'-..', label = \"lu_factor\")\n",
    "plt.loglog(N,Forw,'-.', label = \"forward_sub\")\n",
    "plt.loglog(N,Bac,'--', label = \"backward_sub\")\n",
    "\n",
    "plt.legend()\n",
    "plt.show()\n"
   ]
  },
  {
   "cell_type": "markdown",
   "metadata": {},
   "source": [
    "Obviusly, the factoring was the one with the highest complexity. Aproximately $\\mathcal{O}(n^{3})$, while forwards and backwards substitution has around $\\mathcal{O}(n^{2})$ (abit less **here** by the look of it). The increase of the time required for factoring when $n = 4000$ is most likely caused by memory-allocation, or my pc overheating and me continuing with task $3b$. "
   ]
  },
  {
   "cell_type": "markdown",
   "metadata": {},
   "source": [
    "**b)** Next, define a non-trivial vector $\\boldsymbol{b}$ by\n",
    "$$\n",
    "b_i = \\sum_{j=1}^n (j/(i+j-1)) \n",
    "$$\n",
    "so that the **exact solution** to the lineary system $H_n \\boldsymbol{x} = \\boldsymbol{b}$ is\n",
    "the vector $\\boldsymbol{x}_{\\mathrm{ex}}$  with elements $x_{\\mathrm{ex},i} = i$.\n",
    "Now solve the system using your ```linear_solve``` function for $n = 2, 4, 8, 16$, print the computed solution vector $\\boldsymbol{x}_{\\mathrm{comp}}$ and compare it with $\\boldsymbol{x}_{\\mathrm{ex}}$. In particular compute \n",
    "\n",
    "$$\\|\\boldsymbol{x}_{\\mathrm{ex}}-\\boldsymbol{x}_{\\mathrm{comp}}\\|_2.$$\n",
    "\n",
    "What do you observe? Can you explain your observations?\n",
    "\n",
    "*Hint*: It can be shown that the condition number $\\kappa_2(H_n)$ scales like\n",
    "$$\n",
    "\\kappa_2(H_n) \\sim \\dfrac{\\left(\\sqrt{2}+1\\right)^{4n+4}}{2^{15/4}\\sqrt{\\pi n}}\n",
    "\\text{as } n \\to  \\infty.\n",
    "$$\n",
    "\n",
    "Tabulate the approximate values of $\\kappa_2(H_n)$ for $n = 2, 4, 8, 16$.\n",
    "\n",
    "This exercise was heavily inspired by Section 2.8 in **BLUB**."
   ]
  },
  {
   "cell_type": "code",
   "execution_count": 33,
   "metadata": {},
   "outputs": [
    {
     "name": "stdout",
     "output_type": "stream",
     "text": [
      "[1. 2.]\n",
      "[1. 2. 3. 4.]\n",
      "[1.         2.00000001 2.99999993 4.00000041 4.99999888 6.00000161\n",
      " 6.99999883 8.00000033]\n",
      "[   0.99999289    2.00109751    2.95827388    4.68098214   -0.89582869\n",
      "   35.85675954  -84.49176048  172.27435607 -132.84379957    1.77831251\n",
      "   67.03984513  219.70414935 -512.17337844  517.93051322 -218.24808121\n",
      "   59.42857143]\n",
      "Norms:  [1.4895204919483639e-15, 1.250173517521768e-12, 2.3463225262729594e-06, 829.937313275053]\n"
     ]
    }
   ],
   "source": [
    "def gen_bx(n): #generates b, xe\n",
    "    b = np.zeros(n)\n",
    "    for i in range(n):\n",
    "        for j in range(n):\n",
    "            b[i] += (j+1)/(i+j+1)\n",
    "    return b, (np.arange(n)+1)\n",
    "\n",
    "norms = []\n",
    "for n in [2,4,8,16]:\n",
    "    H = la.hilbert(n)\n",
    "    b,xe = gen_bx(n)\n",
    "    x = linear_solve(H,b)\n",
    "    diff = xe-x\n",
    "    print(x)\n",
    "    \n",
    "    norms.append(np.linalg.norm((diff)))\n",
    "\n",
    "print(\"Norms: \",norms)\n",
    "\"\"\"looking more closely at n == 16\"\"\"\n",
    "n = 16\n",
    "b,xe = gen_bx(n)\n",
    "H = la.hilbert(n)\n",
    "L, U, P = lu_factor(H)\n",
    "#print(L@U - H[P])\n",
    "#print(forward_sub(L,b[P]))\n",
    "#print(backward_sub(U,forward_sub(L,b[P])))\n",
    "\n",
    "\n",
    "\n",
    "    \n"
   ]
  },
  {
   "cell_type": "markdown",
   "metadata": {},
   "source": [
    "When looking at the $x_{comp}$, it is computed correctly(almost) for $n=2,4,8$ but it completely breakes down for $n = 16$. With closer inspection it seems that when forward and backward substituting the sizes of the elements vary immensly(several orders of magnitude, 15 at most for our intermidiate y-variable), and when computing the solution of these two steps, the accuracy of our 15 decimals is not sufficient. The LU factorization is not to blame, since there is no difference between $LU and PH$. The problem is, as given by the hint, very ill-conditioned. Lets approximate the condition-number using some linalg."
   ]
  },
  {
   "cell_type": "code",
   "execution_count": 34,
   "metadata": {},
   "outputs": [
    {
     "name": "stdout",
     "output_type": "stream",
     "text": [
      "n = 2,    K = 1.93e+01\n",
      "n = 4,    K = 1.56e+04\n",
      "n = 8,    K = 1.55e+10\n",
      "n = 16,    K = 6.46e+17\n"
     ]
    }
   ],
   "source": [
    "for n in [2,4,8,16]:\n",
    "    H = la.hilbert(n)\n",
    "    Hinv = np.linalg.inv(H)\n",
    "    Kappa = np.linalg.norm(H)*np.linalg.norm(Hinv)\n",
    "    print(\"n = %d,    K = %.2e\" % (n,Kappa) )"
   ]
  },
  {
   "cell_type": "markdown",
   "metadata": {},
   "source": [
    "Obviously these numbers are extreme, and explain the great difference in the computed result and the theoretical. We can use the given formula, and see if we get approximately the same answers for the condition numbers."
   ]
  },
  {
   "cell_type": "code",
   "execution_count": 35,
   "metadata": {},
   "outputs": [
    {
     "name": "stdout",
     "output_type": "stream",
     "text": [
      "n = 2,    K = 1.16e+03\n",
      "n = 4,    K = 9.49e+05\n",
      "n = 8,    K = 8.93e+11\n",
      "n = 16,    K = 1.12e+24\n"
     ]
    }
   ],
   "source": [
    "def Kn(n):\n",
    "    return ((2**(.5)+1)**(4*n+4))/((2**(15./4.))*((np.pi*n)**.5))\n",
    "\n",
    "for n in [2,4,8,16]:\n",
    "    print(\"n = %d,    K = %.2e\" % (n,Kn(n)) )\n"
   ]
  },
  {
   "cell_type": "markdown",
   "metadata": {},
   "source": [
    "Not exactly the same results, but then again, $n$ is nowhere close to infinity."
   ]
  }
 ],
 "metadata": {
  "anaconda-cloud": {},
  "kernelspec": {
   "display_name": "Python 3",
   "language": "python",
   "name": "python3"
  },
  "language_info": {
   "codemirror_mode": {
    "name": "ipython",
    "version": 3
   },
   "file_extension": ".py",
   "mimetype": "text/x-python",
   "name": "python",
   "nbconvert_exporter": "python",
   "pygments_lexer": "ipython3",
   "version": "3.7.2"
  }
 },
 "nbformat": 4,
 "nbformat_minor": 4
}
